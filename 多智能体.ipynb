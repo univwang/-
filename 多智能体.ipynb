{
 "cells": [
  {
   "cell_type": "code",
   "execution_count": 9,
   "metadata": {},
   "outputs": [
    {
     "name": "stderr",
     "output_type": "stream",
     "text": [
      "d:\\11516\\usual\\anaconda\\envs\\pytorch\\lib\\site-packages\\gym\\envs\\registration.py:421: UserWarning: \u001b[33mWARN: The `registry.all` method is deprecated. Please use `registry.values` instead.\u001b[0m\n",
      "  logger.warn(\n"
     ]
    },
    {
     "ename": "AttributeError",
     "evalue": "'EnvSpec' object has no attribute '_kwargs'",
     "output_type": "error",
     "traceback": [
      "\u001b[1;31m---------------------------------------------------------------------------\u001b[0m",
      "\u001b[1;31mAttributeError\u001b[0m                            Traceback (most recent call last)",
      "\u001b[1;32md:\\11516\\learn\\机器学习\\强化学习\\chapter\\basic\\多智能体.ipynb Cell 1\u001b[0m in \u001b[0;36m<cell line: 10>\u001b[1;34m()\u001b[0m\n\u001b[0;32m      <a href='vscode-notebook-cell:/d%3A/11516/learn/%E6%9C%BA%E5%99%A8%E5%AD%A6%E4%B9%A0/%E5%BC%BA%E5%8C%96%E5%AD%A6%E4%B9%A0/chapter/basic/%E5%A4%9A%E6%99%BA%E8%83%BD%E4%BD%93.ipynb#W0sZmlsZQ%3D%3D?line=7'>8</a>\u001b[0m \u001b[39mimport\u001b[39;00m \u001b[39msys\u001b[39;00m\n\u001b[0;32m      <a href='vscode-notebook-cell:/d%3A/11516/learn/%E6%9C%BA%E5%99%A8%E5%AD%A6%E4%B9%A0/%E5%BC%BA%E5%8C%96%E5%AD%A6%E4%B9%A0/chapter/basic/%E5%A4%9A%E6%99%BA%E8%83%BD%E4%BD%93.ipynb#W0sZmlsZQ%3D%3D?line=8'>9</a>\u001b[0m sys\u001b[39m.\u001b[39mpath\u001b[39m.\u001b[39mappend(\u001b[39m\"\u001b[39m\u001b[39m./ma-gym\u001b[39m\u001b[39m\"\u001b[39m)\n\u001b[1;32m---> <a href='vscode-notebook-cell:/d%3A/11516/learn/%E6%9C%BA%E5%99%A8%E5%AD%A6%E4%B9%A0/%E5%BC%BA%E5%8C%96%E5%AD%A6%E4%B9%A0/chapter/basic/%E5%A4%9A%E6%99%BA%E8%83%BD%E4%BD%93.ipynb#W0sZmlsZQ%3D%3D?line=9'>10</a>\u001b[0m \u001b[39mfrom\u001b[39;00m \u001b[39mma_gym\u001b[39;00m\u001b[39m.\u001b[39;00m\u001b[39menvs\u001b[39;00m\u001b[39m.\u001b[39;00m\u001b[39mcombat\u001b[39;00m\u001b[39m.\u001b[39;00m\u001b[39mcombat\u001b[39;00m \u001b[39mimport\u001b[39;00m Combat\n",
      "File \u001b[1;32md:\\11516\\learn\\机器学习\\强化学习\\chapter\\basic\\./ma-gym\\ma_gym\\__init__.py:15\u001b[0m, in \u001b[0;36m<module>\u001b[1;34m\u001b[0m\n\u001b[0;32m     10\u001b[0m env_specs \u001b[39m=\u001b[39m [env_spec \u001b[39mfor\u001b[39;00m env_spec \u001b[39min\u001b[39;00m envs\u001b[39m.\u001b[39mregistry\u001b[39m.\u001b[39mall() \u001b[39mif\u001b[39;00m \u001b[39m'\u001b[39m\u001b[39mgym.envs\u001b[39m\u001b[39m'\u001b[39m \u001b[39min\u001b[39;00m env_spec\u001b[39m.\u001b[39mentry_point]\n\u001b[0;32m     11\u001b[0m \u001b[39mfor\u001b[39;00m spec \u001b[39min\u001b[39;00m env_specs:\n\u001b[0;32m     12\u001b[0m     register(\n\u001b[0;32m     13\u001b[0m         \u001b[39mid\u001b[39m\u001b[39m=\u001b[39m\u001b[39m'\u001b[39m\u001b[39mma_\u001b[39m\u001b[39m'\u001b[39m \u001b[39m+\u001b[39m spec\u001b[39m.\u001b[39mid,\n\u001b[0;32m     14\u001b[0m         entry_point\u001b[39m=\u001b[39m\u001b[39m'\u001b[39m\u001b[39mma_gym.envs.openai:MultiAgentWrapper\u001b[39m\u001b[39m'\u001b[39m,\n\u001b[1;32m---> 15\u001b[0m         kwargs\u001b[39m=\u001b[39m{\u001b[39m'\u001b[39m\u001b[39mname\u001b[39m\u001b[39m'\u001b[39m: spec\u001b[39m.\u001b[39mid, \u001b[39m*\u001b[39m\u001b[39m*\u001b[39mspec\u001b[39m.\u001b[39;49m_kwargs}\n\u001b[0;32m     16\u001b[0m     )\n\u001b[0;32m     18\u001b[0m \u001b[39m# add new environments : iterate over full observability\u001b[39;00m\n\u001b[0;32m     19\u001b[0m \u001b[39mfor\u001b[39;00m i, observability \u001b[39min\u001b[39;00m \u001b[39menumerate\u001b[39m([\u001b[39mFalse\u001b[39;00m, \u001b[39mTrue\u001b[39;00m]):\n",
      "\u001b[1;31mAttributeError\u001b[0m: 'EnvSpec' object has no attribute '_kwargs'"
     ]
    }
   ],
   "source": [
    "import torch\n",
    "import torch.nn.functional as F\n",
    "import numpy as np\n",
    "import rl_utils\n",
    "from tqdm import tqdm\n",
    "import matplotlib.pyplot as plt\n",
    "\n",
    "import sys\n",
    "sys.path.append(\"./ma-gym\")\n",
    "from ma_gym.envs.combat.combat import Combat"
   ]
  },
  {
   "cell_type": "code",
   "execution_count": null,
   "metadata": {},
   "outputs": [],
   "source": []
  }
 ],
 "metadata": {
  "kernelspec": {
   "display_name": "Python 3.9.13 ('pytorch')",
   "language": "python",
   "name": "python3"
  },
  "language_info": {
   "codemirror_mode": {
    "name": "ipython",
    "version": 3
   },
   "file_extension": ".py",
   "mimetype": "text/x-python",
   "name": "python",
   "nbconvert_exporter": "python",
   "pygments_lexer": "ipython3",
   "version": "3.9.13"
  },
  "orig_nbformat": 4,
  "vscode": {
   "interpreter": {
    "hash": "40d476d3475c756bbfef2cc15199f37be57f98bc3270cf2f71df902f18344422"
   }
  }
 },
 "nbformat": 4,
 "nbformat_minor": 2
}
